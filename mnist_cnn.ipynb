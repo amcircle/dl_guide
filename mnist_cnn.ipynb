{
  "nbformat": 4,
  "nbformat_minor": 0,
  "metadata": {
    "colab": {
      "name": "mnist_cnn.ipynb",
      "provenance": [],
      "collapsed_sections": []
    },
    "kernelspec": {
      "name": "python3",
      "display_name": "Python 3"
    },
    "language_info": {
      "name": "python"
    },
    "accelerator": "GPU"
  },
  "cells": [
    {
      "cell_type": "code",
      "metadata": {
        "colab": {
          "base_uri": "https://localhost:8080/",
          "height": 34
        },
        "id": "ehU5WkZKibVd",
        "outputId": "7dceb35d-39dd-4790-e4a7-27eef86ad296"
      },
      "source": [
        "import tensorflow as tf\n",
        "from matplotlib import pyplot as plt\n",
        "\n",
        "plt.gray()"
      ],
      "execution_count": null,
      "outputs": [
        {
          "output_type": "display_data",
          "data": {
            "text/plain": [
              "<Figure size 432x288 with 0 Axes>"
            ]
          },
          "metadata": {}
        }
      ]
    },
    {
      "cell_type": "code",
      "metadata": {
        "id": "qtGJ9twfid-y"
      },
      "source": [
        "(x_train, y_train), (x_test, y_test) = tf.keras.datasets.mnist.load_data(path=\"mnist.npz\")"
      ],
      "execution_count": null,
      "outputs": []
    },
    {
      "cell_type": "code",
      "metadata": {
        "id": "43SjOZZeifGH"
      },
      "source": [
        "y_train_onehot = tf.cast(tf.one_hot(y_train, 10), tf.float32)\n",
        "y_test_onehot = tf.cast(tf.one_hot(y_test, 10), tf.float32)"
      ],
      "execution_count": null,
      "outputs": []
    },
    {
      "cell_type": "code",
      "metadata": {
        "id": "eFkPNOSniwQH"
      },
      "source": [
        "x_train = tf.expand_dims(tf.cast(x_train, tf.float32), -1) / 255.0\n",
        "x_test = tf.expand_dims(tf.cast(x_test, tf.float32), -1) / 255.0"
      ],
      "execution_count": null,
      "outputs": []
    },
    {
      "cell_type": "code",
      "metadata": {
        "id": "cjxDYAs7ixVk"
      },
      "source": [
        "train_dataset = tf.data.Dataset.from_tensor_slices((x_train, y_train_onehot))\n",
        "test_dataset = tf.data.Dataset.from_tensor_slices((x_test, y_test_onehot))"
      ],
      "execution_count": null,
      "outputs": []
    },
    {
      "cell_type": "code",
      "metadata": {
        "id": "O6xo9AcYi1QZ"
      },
      "source": [
        "train_dataset = train_dataset.shuffle(x_train.shape[0], reshuffle_each_iteration=True)\n",
        "test_dataset = test_dataset.shuffle(x_test.shape[0], reshuffle_each_iteration=False)"
      ],
      "execution_count": null,
      "outputs": []
    },
    {
      "cell_type": "code",
      "metadata": {
        "id": "NtpadiUUi2XK"
      },
      "source": [
        "train_dataset = train_dataset.batch(32)\n",
        "test_dataset = test_dataset.batch(32)"
      ],
      "execution_count": null,
      "outputs": []
    },
    {
      "cell_type": "code",
      "metadata": {
        "colab": {
          "base_uri": "https://localhost:8080/",
          "height": 282
        },
        "id": "yDAwHa1Gi3Rv",
        "outputId": "b1e63279-e7aa-42c2-b2e0-c131708d56d8"
      },
      "source": [
        "for el in train_dataset.take(1):\n",
        "  print(el[0].shape, el[1].shape)\n",
        "\n",
        "  plt.imshow(el[0][0,:,:,0])\n",
        "  plt.show()"
      ],
      "execution_count": null,
      "outputs": [
        {
          "output_type": "stream",
          "name": "stdout",
          "text": [
            "(32, 28, 28, 1) (32, 10)\n"
          ]
        },
        {
          "output_type": "display_data",
          "data": {
            "image/png": "[encoded data removed]",
            "text/plain": [
              "<Figure size 432x288 with 1 Axes>"
            ]
          },
          "metadata": {
            "needs_background": "light"
          }
        }
      ]
    },
    {
      "cell_type": "code",
      "metadata": {
        "id": "-AvNlWOLi4JG"
      },
      "source": [
        "def plot_history(h):\n",
        "  plt.plot(h.history['accuracy'])\n",
        "  plt.plot(h.history['val_accuracy'])\n",
        "  plt.title('model accuracy')\n",
        "  plt.ylabel('accuracy')\n",
        "  plt.xlabel('epoch')\n",
        "  plt.legend(['train', 'val'], loc='upper left')\n",
        "  plt.show()\n",
        "\n",
        "  plt.plot(h.history['loss'])\n",
        "  plt.plot(h.history['val_loss'])\n",
        "  plt.title('model loss')\n",
        "  plt.ylabel('loss')\n",
        "  plt.xlabel('epoch')\n",
        "  plt.legend(['train', 'val'], loc='upper left')\n",
        "  plt.show()"
      ],
      "execution_count": null,
      "outputs": []
    },
    {
      "cell_type": "code",
      "metadata": {
        "colab": {
          "base_uri": "https://localhost:8080/"
        },
        "id": "IegXUwHdi_Xy",
        "outputId": "2316a884-f16a-456a-8b87-f2fa6173d0f9"
      },
      "source": [
        "input_im = tf.keras.Input(shape=(28, 28, 1))\n",
        "x = tf.keras.layers.Conv2D(32, 5, strides=2, padding='same', activation=None, kernel_initializer='he_uniform')(input_im)\n",
        "x = tf.keras.layers.Dropout(0.3)(x)\n",
        "x = tf.keras.layers.BatchNormalization()(x)\n",
        "x = tf.keras.layers.ReLU()(x)\n",
        "x = tf.keras.layers.Conv2D(64, 3, strides=2, padding='same', activation=None, kernel_initializer='he_uniform')(x)\n",
        "x = tf.keras.layers.BatchNormalization()(x)\n",
        "x = tf.keras.layers.ReLU()(x)\n",
        "#x = tf.keras.layers.GlobalAveragePooling2D()(x)\n",
        "x = tf.keras.layers.Flatten()(x)\n",
        "x = tf.keras.layers.Dense(10, activation='softmax', kernel_initializer='he_uniform')(x)\n",
        "\n",
        "cnn_1_model_adam = tf.keras.Model(input_im, x)\n",
        "\n",
        "cnn_1_model_adam.summary()"
      ],
      "execution_count": null,
      "outputs": [
        {
          "output_type": "stream",
          "name": "stdout",
          "text": [
            "Model: \"model_7\"\n",
            "_________________________________________________________________\n",
            " Layer (type)                Output Shape              Param #   \n",
            "=================================================================\n",
            " input_8 (InputLayer)        [(None, 28, 28, 1)]       0         \n",
            "                                                                 \n",
            " conv2d_17 (Conv2D)          (None, 14, 14, 32)        832       \n",
            "                                                                 \n",
            " dropout_7 (Dropout)         (None, 14, 14, 32)        0         \n",
            "                                                                 \n",
            " batch_normalization_17 (Bat  (None, 14, 14, 32)       128       \n",
            " chNormalization)                                                \n",
            "                                                                 \n",
            " re_lu_17 (ReLU)             (None, 14, 14, 32)        0         \n",
            "                                                                 \n",
            " conv2d_18 (Conv2D)          (None, 7, 7, 64)          18496     \n",
            "                                                                 \n",
            " batch_normalization_18 (Bat  (None, 7, 7, 64)         256       \n",
            " chNormalization)                                                \n",
            "                                                                 \n",
            " re_lu_18 (ReLU)             (None, 7, 7, 64)          0         \n",
            "                                                                 \n",
            " flatten_4 (Flatten)         (None, 3136)              0         \n",
            "                                                                 \n",
            " dense_7 (Dense)             (None, 10)                31370     \n",
            "                                                                 \n",
            "=================================================================\n",
            "Total params: 51,082\n",
            "Trainable params: 50,890\n",
            "Non-trainable params: 192\n",
            "_________________________________________________________________\n"
          ]
        }
      ]
    },
    {
      "cell_type": "code",
      "metadata": {
        "colab": {
          "base_uri": "https://localhost:8080/"
        },
        "id": "Zs-UM7tujLZj",
        "outputId": "2b7e38c1-ce91-4c67-e8e1-27e3d0c32d3d"
      },
      "source": [
        "optimizer = tf.keras.optimizers.Adam(\n",
        "    learning_rate=0.001,\n",
        "    beta_1=0.9,\n",
        "    beta_2=0.999,\n",
        "    epsilon=1e-07\n",
        ")\n",
        "\n",
        "cnn_1_model_adam.compile(\n",
        "    optimizer=optimizer,\n",
        "    loss='categorical_crossentropy',\n",
        "    metrics='accuracy')\n",
        "\n",
        "h_cnn_1_model_adam = cnn_1_model_adam.fit(train_dataset, validation_data = test_dataset, epochs = 6)"
      ],
      "execution_count": null,
      "outputs": [
        {
          "output_type": "stream",
          "name": "stdout",
          "text": [
            "Epoch 1/6\n",
            "1875/1875 [==============================] - 11s 5ms/step - loss: 0.1797 - accuracy: 0.9454 - val_loss: 0.0904 - val_accuracy: 0.9721\n",
            "Epoch 2/6\n",
            "1875/1875 [==============================] - 10s 5ms/step - loss: 0.0742 - accuracy: 0.9774 - val_loss: 0.0546 - val_accuracy: 0.9821\n",
            "Epoch 3/6\n",
            "1875/1875 [==============================] - 10s 5ms/step - loss: 0.0570 - accuracy: 0.9821 - val_loss: 0.0410 - val_accuracy: 0.9870\n",
            "Epoch 4/6\n",
            "1875/1875 [==============================] - 10s 5ms/step - loss: 0.0435 - accuracy: 0.9865 - val_loss: 0.0430 - val_accuracy: 0.9864\n",
            "Epoch 5/6\n",
            "1875/1875 [==============================] - 10s 5ms/step - loss: 0.0387 - accuracy: 0.9875 - val_loss: 0.0369 - val_accuracy: 0.9886\n",
            "Epoch 6/6\n",
            "1875/1875 [==============================] - 10s 5ms/step - loss: 0.0325 - accuracy: 0.9896 - val_loss: 0.0376 - val_accuracy: 0.9883\n"
          ]
        }
      ]
    },
    {
      "cell_type": "code",
      "metadata": {
        "colab": {
          "base_uri": "https://localhost:8080/",
          "height": 573
        },
        "id": "Iy5sL7BPmySC",
        "outputId": "3760e7e2-6bed-469c-d1a0-25fea17da5ad"
      },
      "source": [
        "plot_history(h_cnn_1_model_adam)"
      ],
      "execution_count": null,
      "outputs": [
        {
          "output_type": "display_data",
          "data": {
            "image/png": "[encoded data removed]",
            "text/plain": [
              "<Figure size 432x288 with 1 Axes>"
            ]
          },
          "metadata": {
            "needs_background": "light"
          }
        },
        {
          "output_type": "display_data",
          "data": {
            "image/png": "[encoded data removed]",
            "text/plain": [
              "<Figure size 432x288 with 1 Axes>"
            ]
          },
          "metadata": {
            "needs_background": "light"
          }
        }
      ]
    },
    {
      "cell_type": "code",
      "metadata": {
        "colab": {
          "base_uri": "https://localhost:8080/"
        },
        "id": "Q20fQMnCjsLH",
        "outputId": "ad7b653a-7940-435a-a5cd-015cafd05784"
      },
      "source": [
        "input_im = tf.keras.Input(shape=(28, 28, 1))\n",
        "x = tf.keras.layers.Conv2D(32, 5, strides=1, padding='same', activation=None, kernel_initializer='he_uniform')(input_im)\n",
        "x = tf.keras.layers.Dropout(0.3)(x)\n",
        "x = tf.keras.layers.BatchNormalization()(x)\n",
        "x = tf.keras.layers.ReLU()(x)\n",
        "x = tf.keras.layers.AveragePooling2D()(x)\n",
        "\n",
        "x = tf.keras.layers.Conv2D(64, 3, strides=1, padding='same', activation=None, kernel_initializer='he_uniform')(x)\n",
        "x = tf.keras.layers.BatchNormalization()(x)\n",
        "x = tf.keras.layers.ReLU()(x)\n",
        "x = tf.keras.layers.AveragePooling2D()(x)\n",
        "\n",
        "#x = tf.keras.layers.GlobalAveragePooling2D()(x)\n",
        "x = tf.keras.layers.Flatten()(x)\n",
        "x = tf.keras.layers.Dense(10, activation='softmax', kernel_initializer='he_uniform')(x)\n",
        "\n",
        "cnn_2_model_adam = tf.keras.Model(input_im, x)\n",
        "\n",
        "cnn_2_model_adam.summary()"
      ],
      "execution_count": null,
      "outputs": [
        {
          "output_type": "stream",
          "name": "stdout",
          "text": [
            "Model: \"model_8\"\n",
            "_________________________________________________________________\n",
            " Layer (type)                Output Shape              Param #   \n",
            "=================================================================\n",
            " input_9 (InputLayer)        [(None, 28, 28, 1)]       0         \n",
            "                                                                 \n",
            " conv2d_19 (Conv2D)          (None, 28, 28, 32)        832       \n",
            "                                                                 \n",
            " dropout_8 (Dropout)         (None, 28, 28, 32)        0         \n",
            "                                                                 \n",
            " batch_normalization_19 (Bat  (None, 28, 28, 32)       128       \n",
            " chNormalization)                                                \n",
            "                                                                 \n",
            " re_lu_19 (ReLU)             (None, 28, 28, 32)        0         \n",
            "                                                                 \n",
            " average_pooling2d (AverageP  (None, 14, 14, 32)       0         \n",
            " ooling2D)                                                       \n",
            "                                                                 \n",
            " conv2d_20 (Conv2D)          (None, 14, 14, 64)        18496     \n",
            "                                                                 \n",
            " batch_normalization_20 (Bat  (None, 14, 14, 64)       256       \n",
            " chNormalization)                                                \n",
            "                                                                 \n",
            " re_lu_20 (ReLU)             (None, 14, 14, 64)        0         \n",
            "                                                                 \n",
            " average_pooling2d_1 (Averag  (None, 7, 7, 64)         0         \n",
            " ePooling2D)                                                     \n",
            "                                                                 \n",
            " flatten_5 (Flatten)         (None, 3136)              0         \n",
            "                                                                 \n",
            " dense_8 (Dense)             (None, 10)                31370     \n",
            "                                                                 \n",
            "=================================================================\n",
            "Total params: 51,082\n",
            "Trainable params: 50,890\n",
            "Non-trainable params: 192\n",
            "_________________________________________________________________\n"
          ]
        }
      ]
    },
    {
      "cell_type": "code",
      "source": [
        ""
      ],
      "metadata": {
        "id": "JLQmF8XZXKmH"
      },
      "execution_count": null,
      "outputs": []
    },
    {
      "cell_type": "code",
      "source": [
        ""
      ],
      "metadata": {
        "id": "dkZNPQFUXLA1"
      },
      "execution_count": null,
      "outputs": []
    },
    {
      "cell_type": "code",
      "metadata": {
        "colab": {
          "base_uri": "https://localhost:8080/"
        },
        "id": "LK9uoNl-mqIE",
        "outputId": "a47b4ce7-c9c4-4f23-ead1-b131fbf746da"
      },
      "source": [
        "optimizer = tf.keras.optimizers.Adam(\n",
        "    learning_rate=0.001,\n",
        "    beta_1=0.9,\n",
        "    beta_2=0.999,\n",
        "    epsilon=1e-07\n",
        ")\n",
        "\n",
        "cnn_2_model_adam.compile(\n",
        "    optimizer=optimizer,\n",
        "    loss='categorical_crossentropy',\n",
        "    metrics='accuracy')\n",
        "\n",
        "h_cnn_2_model_adam = cnn_2_model_adam.fit(train_dataset, validation_data = test_dataset, epochs = 6)"
      ],
      "execution_count": null,
      "outputs": [
        {
          "output_type": "stream",
          "name": "stdout",
          "text": [
            "Epoch 1/6\n",
            "1875/1875 [==============================] - 11s 6ms/step - loss: 0.1280 - accuracy: 0.9615 - val_loss: 0.0442 - val_accuracy: 0.9859\n",
            "Epoch 2/6\n",
            "1875/1875 [==============================] - 10s 5ms/step - loss: 0.0549 - accuracy: 0.9824 - val_loss: 0.0309 - val_accuracy: 0.9896\n",
            "Epoch 3/6\n",
            "1875/1875 [==============================] - 10s 5ms/step - loss: 0.0405 - accuracy: 0.9871 - val_loss: 0.0293 - val_accuracy: 0.9907\n",
            "Epoch 4/6\n",
            "1875/1875 [==============================] - 10s 5ms/step - loss: 0.0343 - accuracy: 0.9890 - val_loss: 0.0297 - val_accuracy: 0.9897\n",
            "Epoch 5/6\n",
            "1875/1875 [==============================] - 10s 5ms/step - loss: 0.0289 - accuracy: 0.9906 - val_loss: 0.0249 - val_accuracy: 0.9918\n",
            "Epoch 6/6\n",
            "1875/1875 [==============================] - 10s 5ms/step - loss: 0.0252 - accuracy: 0.9920 - val_loss: 0.0259 - val_accuracy: 0.9921\n"
          ]
        }
      ]
    },
    {
      "cell_type": "code",
      "metadata": {
        "colab": {
          "base_uri": "https://localhost:8080/",
          "height": 573
        },
        "id": "D6bE9Palm66w",
        "outputId": "05270dfd-03fe-4d1e-b0cf-73ab2d76f7c6"
      },
      "source": [
        "plot_history(h_cnn_2_model_adam)"
      ],
      "execution_count": null,
      "outputs": [
        {
          "output_type": "display_data",
          "data": {
            "image/png": "[encoded data removed]",
            "text/plain": [
              "<Figure size 432x288 with 1 Axes>"
            ]
          },
          "metadata": {
            "needs_background": "light"
          }
        },
        {
          "output_type": "display_data",
          "data": {
            "image/png": "[encoded data removed]",
            "text/plain": [
              "<Figure size 432x288 with 1 Axes>"
            ]
          },
          "metadata": {
            "needs_background": "light"
          }
        }
      ]
    },
    {
      "cell_type": "markdown",
      "metadata": {
        "id": "Ii8D7H-FlsIt"
      },
      "source": [
        "https://paperswithcode.com/sota/image-classification-on-mnist"
      ]
    },
    {
      "cell_type": "code",
      "metadata": {
        "colab": {
          "base_uri": "https://localhost:8080/"
        },
        "id": "PMnu_DBhnDpX",
        "outputId": "2eee0db9-939b-4ec9-975c-f4b7d1b6c92a"
      },
      "source": [
        "input_im = tf.keras.Input(shape=(28, 28, 1))\n",
        "x = tf.keras.layers.Conv2D(32, 5, strides=1, padding='same', activation=None, kernel_initializer='he_uniform')(input_im)\n",
        "x = tf.keras.layers.Dropout(0.3)(x)\n",
        "x = tf.keras.layers.BatchNormalization()(x)\n",
        "x = tf.keras.layers.ReLU()(x)\n",
        "x = tf.keras.layers.AveragePooling2D()(x)\n",
        "\n",
        "x = tf.keras.layers.Conv2D(64, 3, strides=1, padding='same', activation=None, kernel_initializer='he_uniform')(x)\n",
        "x = tf.keras.layers.BatchNormalization()(x)\n",
        "x = tf.keras.layers.ReLU()(x)\n",
        "x = tf.keras.layers.AveragePooling2D()(x)\n",
        "\n",
        "x = tf.keras.layers.GlobalAveragePooling2D()(x)\n",
        "#x = tf.keras.layers.Flatten()(x)\n",
        "x = tf.keras.layers.Dense(10, activation='softmax', kernel_initializer='he_uniform')(x)\n",
        "\n",
        "cnn_3_model_adam = tf.keras.Model(input_im, x)\n",
        "\n",
        "cnn_3_model_adam.summary()"
      ],
      "execution_count": null,
      "outputs": [
        {
          "output_type": "stream",
          "name": "stdout",
          "text": [
            "Model: \"model_14\"\n",
            "_________________________________________________________________\n",
            " Layer (type)                Output Shape              Param #   \n",
            "=================================================================\n",
            " input_15 (InputLayer)       [(None, 28, 28, 1)]       0         \n",
            "                                                                 \n",
            " conv2d_31 (Conv2D)          (None, 28, 28, 32)        832       \n",
            "                                                                 \n",
            " dropout_14 (Dropout)        (None, 28, 28, 32)        0         \n",
            "                                                                 \n",
            " batch_normalization_31 (Bat  (None, 28, 28, 32)       128       \n",
            " chNormalization)                                                \n",
            "                                                                 \n",
            " re_lu_31 (ReLU)             (None, 28, 28, 32)        0         \n",
            "                                                                 \n",
            " average_pooling2d_12 (Avera  (None, 14, 14, 32)       0         \n",
            " gePooling2D)                                                    \n",
            "                                                                 \n",
            " conv2d_32 (Conv2D)          (None, 14, 14, 64)        18496     \n",
            "                                                                 \n",
            " batch_normalization_32 (Bat  (None, 14, 14, 64)       256       \n",
            " chNormalization)                                                \n",
            "                                                                 \n",
            " re_lu_32 (ReLU)             (None, 14, 14, 64)        0         \n",
            "                                                                 \n",
            " average_pooling2d_13 (Avera  (None, 7, 7, 64)         0         \n",
            " gePooling2D)                                                    \n",
            "                                                                 \n",
            " global_average_pooling2d_8   (None, 64)               0         \n",
            " (GlobalAveragePooling2D)                                        \n",
            "                                                                 \n",
            " dense_20 (Dense)            (None, 10)                650       \n",
            "                                                                 \n",
            "=================================================================\n",
            "Total params: 20,362\n",
            "Trainable params: 20,170\n",
            "Non-trainable params: 192\n",
            "_________________________________________________________________\n"
          ]
        }
      ]
    },
    {
      "cell_type": "code",
      "metadata": {
        "colab": {
          "base_uri": "https://localhost:8080/"
        },
        "id": "qhhfZXfvn78E",
        "outputId": "70165a9f-7131-4b2d-db73-42618751709f"
      },
      "source": [
        "optimizer = tf.keras.optimizers.Adam(\n",
        "    learning_rate=0.001,\n",
        "    beta_1=0.9,\n",
        "    beta_2=0.999,\n",
        "    epsilon=1e-07\n",
        ")\n",
        "\n",
        "cnn_3_model_adam.compile(\n",
        "    optimizer=optimizer,\n",
        "    loss='categorical_crossentropy',\n",
        "    metrics='accuracy')\n",
        "\n",
        "h_cnn_3_model_adam = cnn_3_model_adam.fit(train_dataset, validation_data = test_dataset, epochs = 6)"
      ],
      "execution_count": null,
      "outputs": [
        {
          "output_type": "stream",
          "name": "stdout",
          "text": [
            "Epoch 1/6\n",
            "1875/1875 [==============================] - 12s 6ms/step - loss: 0.9518 - accuracy: 0.7642 - val_loss: 0.4821 - val_accuracy: 0.8593\n",
            "Epoch 2/6\n",
            "1875/1875 [==============================] - 11s 6ms/step - loss: 0.3392 - accuracy: 0.9192 - val_loss: 0.5269 - val_accuracy: 0.8209\n",
            "Epoch 3/6\n",
            "1875/1875 [==============================] - 11s 6ms/step - loss: 0.2224 - accuracy: 0.9436 - val_loss: 0.3635 - val_accuracy: 0.8846\n",
            "Epoch 4/6\n",
            "1875/1875 [==============================] - 11s 6ms/step - loss: 0.1735 - accuracy: 0.9545 - val_loss: 0.3728 - val_accuracy: 0.8714\n",
            "Epoch 5/6\n",
            "1875/1875 [==============================] - 11s 6ms/step - loss: 0.1449 - accuracy: 0.9612 - val_loss: 0.4370 - val_accuracy: 0.8477\n",
            "Epoch 6/6\n",
            "1875/1875 [==============================] - 11s 6ms/step - loss: 0.1271 - accuracy: 0.9657 - val_loss: 0.1436 - val_accuracy: 0.9552\n"
          ]
        }
      ]
    },
    {
      "cell_type": "code",
      "metadata": {
        "colab": {
          "base_uri": "https://localhost:8080/",
          "height": 573
        },
        "id": "W_nM0vw8oWD3",
        "outputId": "0e98f590-5c11-4e4d-afd6-70dfa4a2ef59"
      },
      "source": [
        "plot_history(h_cnn_3_model_adam)"
      ],
      "execution_count": null,
      "outputs": [
        {
          "output_type": "display_data",
          "data": {
            "image/png": "[encoded data removed]",
            "text/plain": [
              "<Figure size 432x288 with 1 Axes>"
            ]
          },
          "metadata": {
            "needs_background": "light"
          }
        },
        {
          "output_type": "display_data",
          "data": {
            "image/png": "[encoded data removed]",
            "text/plain": [
              "<Figure size 432x288 with 1 Axes>"
            ]
          },
          "metadata": {
            "needs_background": "light"
          }
        }
      ]
    },
    {
      "cell_type": "code",
      "metadata": {
        "id": "oD0Ci0eroa9B"
      },
      "source": [
        ""
      ],
      "execution_count": null,
      "outputs": []
    }
  ]
}
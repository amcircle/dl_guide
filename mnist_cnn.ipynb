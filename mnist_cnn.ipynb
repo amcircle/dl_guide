{
 "cells": [
  {
   "cell_type": "code",
   "execution_count": null,
   "metadata": {
    "colab": {
     "base_uri": "https://localhost:8080/",
     "height": 34
    },
    "id": "ehU5WkZKibVd",
    "outputId": "7dceb35d-39dd-4790-e4a7-27eef86ad296"
   },
   "outputs": [],
   "source": [
    "import tensorflow as tf\n",
    "from matplotlib import pyplot as plt\n",
    "\n",
    "plt.gray()"
   ]
  },
  {
   "cell_type": "code",
   "execution_count": null,
   "metadata": {
    "id": "qtGJ9twfid-y"
   },
   "outputs": [],
   "source": [
    "(x_train, y_train), (x_test, y_test) = tf.keras.datasets.mnist.load_data(path=\"mnist.npz\")"
   ]
  },
  {
   "cell_type": "code",
   "execution_count": null,
   "metadata": {
    "id": "43SjOZZeifGH"
   },
   "outputs": [],
   "source": [
    "y_train_onehot = tf.cast(tf.one_hot(y_train, 10), tf.float32)\n",
    "y_test_onehot = tf.cast(tf.one_hot(y_test, 10), tf.float32)"
   ]
  },
  {
   "cell_type": "code",
   "execution_count": null,
   "metadata": {
    "id": "eFkPNOSniwQH"
   },
   "outputs": [],
   "source": [
    "x_train = tf.expand_dims(tf.cast(x_train, tf.float32), -1) / 255.0\n",
    "x_test = tf.expand_dims(tf.cast(x_test, tf.float32), -1) / 255.0"
   ]
  },
  {
   "cell_type": "code",
   "execution_count": null,
   "metadata": {
    "id": "cjxDYAs7ixVk"
   },
   "outputs": [],
   "source": [
    "train_dataset = tf.data.Dataset.from_tensor_slices((x_train, y_train_onehot))\n",
    "test_dataset = tf.data.Dataset.from_tensor_slices((x_test, y_test_onehot))"
   ]
  },
  {
   "cell_type": "code",
   "execution_count": null,
   "metadata": {
    "id": "O6xo9AcYi1QZ"
   },
   "outputs": [],
   "source": [
    "train_dataset = train_dataset.shuffle(x_train.shape[0], reshuffle_each_iteration=True)\n",
    "test_dataset = test_dataset.shuffle(x_test.shape[0], reshuffle_each_iteration=False)"
   ]
  },
  {
   "cell_type": "code",
   "execution_count": null,
   "metadata": {
    "id": "NtpadiUUi2XK"
   },
   "outputs": [],
   "source": [
    "train_dataset = train_dataset.batch(32)\n",
    "test_dataset = test_dataset.batch(32)"
   ]
  },
  {
   "cell_type": "code",
   "execution_count": null,
   "metadata": {
    "colab": {
     "base_uri": "https://localhost:8080/",
     "height": 282
    },
    "id": "yDAwHa1Gi3Rv",
    "outputId": "b1e63279-e7aa-42c2-b2e0-c131708d56d8"
   },
   "outputs": [],
   "source": [
    "for el in train_dataset.take(1):\n",
    "  print(el[0].shape, el[1].shape)\n",
    "\n",
    "  plt.imshow(el[0][0,:,:,0])\n",
    "  plt.show()"
   ]
  },
  {
   "cell_type": "code",
   "execution_count": null,
   "metadata": {
    "id": "-AvNlWOLi4JG"
   },
   "outputs": [],
   "source": [
    "def plot_history(h):\n",
    "  plt.plot(h.history['accuracy'])\n",
    "  plt.plot(h.history['val_accuracy'])\n",
    "  plt.title('model accuracy')\n",
    "  plt.ylabel('accuracy')\n",
    "  plt.xlabel('epoch')\n",
    "  plt.legend(['train', 'val'], loc='upper left')\n",
    "  plt.show()\n",
    "\n",
    "  plt.plot(h.history['loss'])\n",
    "  plt.plot(h.history['val_loss'])\n",
    "  plt.title('model loss')\n",
    "  plt.ylabel('loss')\n",
    "  plt.xlabel('epoch')\n",
    "  plt.legend(['train', 'val'], loc='upper left')\n",
    "  plt.show()"
   ]
  },
  {
   "cell_type": "code",
   "execution_count": null,
   "metadata": {
    "colab": {
     "base_uri": "https://localhost:8080/"
    },
    "id": "IegXUwHdi_Xy",
    "outputId": "2316a884-f16a-456a-8b87-f2fa6173d0f9"
   },
   "outputs": [],
   "source": [
    "input_im = tf.keras.Input(shape=(28, 28, 1))\n",
    "x = tf.keras.layers.Conv2D(32, 5, strides=2, padding='same', activation=None, kernel_initializer='he_uniform')(input_im)\n",
    "x = tf.keras.layers.Dropout(0.3)(x)\n",
    "x = tf.keras.layers.BatchNormalization()(x)\n",
    "x = tf.keras.layers.ReLU()(x)\n",
    "x = tf.keras.layers.Conv2D(64, 3, strides=2, padding='same', activation=None, kernel_initializer='he_uniform')(x)\n",
    "x = tf.keras.layers.BatchNormalization()(x)\n",
    "x = tf.keras.layers.ReLU()(x)\n",
    "#x = tf.keras.layers.GlobalAveragePooling2D()(x)\n",
    "x = tf.keras.layers.Flatten()(x)\n",
    "x = tf.keras.layers.Dense(10, activation='softmax', kernel_initializer='he_uniform')(x)\n",
    "\n",
    "cnn_1_model_adam = tf.keras.Model(input_im, x)\n",
    "\n",
    "cnn_1_model_adam.summary()"
   ]
  },
  {
   "cell_type": "code",
   "execution_count": null,
   "metadata": {
    "colab": {
     "base_uri": "https://localhost:8080/"
    },
    "id": "Zs-UM7tujLZj",
    "outputId": "2b7e38c1-ce91-4c67-e8e1-27e3d0c32d3d"
   },
   "outputs": [],
   "source": [
    "optimizer = tf.keras.optimizers.Adam(\n",
    "    learning_rate=0.001,\n",
    "    beta_1=0.9,\n",
    "    beta_2=0.999,\n",
    "    epsilon=1e-07\n",
    ")\n",
    "\n",
    "cnn_1_model_adam.compile(\n",
    "    optimizer=optimizer,\n",
    "    loss='categorical_crossentropy',\n",
    "    metrics='accuracy')\n",
    "\n",
    "h_cnn_1_model_adam = cnn_1_model_adam.fit(train_dataset, validation_data = test_dataset, epochs = 6)"
   ]
  },
  {
   "cell_type": "code",
   "execution_count": null,
   "metadata": {
    "colab": {
     "base_uri": "https://localhost:8080/",
     "height": 573
    },
    "id": "Iy5sL7BPmySC",
    "outputId": "3760e7e2-6bed-469c-d1a0-25fea17da5ad"
   },
   "outputs": [],
   "source": [
    "plot_history(h_cnn_1_model_adam)"
   ]
  },
  {
   "cell_type": "code",
   "execution_count": null,
   "metadata": {
    "colab": {
     "base_uri": "https://localhost:8080/"
    },
    "id": "Q20fQMnCjsLH",
    "outputId": "ad7b653a-7940-435a-a5cd-015cafd05784"
   },
   "outputs": [],
   "source": [
    "input_im = tf.keras.Input(shape=(28, 28, 1))\n",
    "x = tf.keras.layers.Conv2D(32, 5, strides=1, padding='same', activation=None, kernel_initializer='he_uniform')(input_im)\n",
    "x = tf.keras.layers.Dropout(0.3)(x)\n",
    "x = tf.keras.layers.BatchNormalization()(x)\n",
    "x = tf.keras.layers.ReLU()(x)\n",
    "x = tf.keras.layers.AveragePooling2D()(x)\n",
    "\n",
    "x = tf.keras.layers.Conv2D(64, 3, strides=1, padding='same', activation=None, kernel_initializer='he_uniform')(x)\n",
    "x = tf.keras.layers.BatchNormalization()(x)\n",
    "x = tf.keras.layers.ReLU()(x)\n",
    "x = tf.keras.layers.AveragePooling2D()(x)\n",
    "\n",
    "#x = tf.keras.layers.GlobalAveragePooling2D()(x)\n",
    "x = tf.keras.layers.Flatten()(x)\n",
    "x = tf.keras.layers.Dense(10, activation='softmax', kernel_initializer='he_uniform')(x)\n",
    "\n",
    "cnn_2_model_adam = tf.keras.Model(input_im, x)\n",
    "\n",
    "cnn_2_model_adam.summary()"
   ]
  },
  {
   "cell_type": "code",
   "execution_count": null,
   "metadata": {
    "id": "JLQmF8XZXKmH"
   },
   "outputs": [],
   "source": []
  },
  {
   "cell_type": "code",
   "execution_count": null,
   "metadata": {
    "id": "dkZNPQFUXLA1"
   },
   "outputs": [],
   "source": []
  },
  {
   "cell_type": "code",
   "execution_count": null,
   "metadata": {
    "colab": {
     "base_uri": "https://localhost:8080/"
    },
    "id": "LK9uoNl-mqIE",
    "outputId": "a47b4ce7-c9c4-4f23-ead1-b131fbf746da"
   },
   "outputs": [],
   "source": [
    "optimizer = tf.keras.optimizers.Adam(\n",
    "    learning_rate=0.001,\n",
    "    beta_1=0.9,\n",
    "    beta_2=0.999,\n",
    "    epsilon=1e-07\n",
    ")\n",
    "\n",
    "cnn_2_model_adam.compile(\n",
    "    optimizer=optimizer,\n",
    "    loss='categorical_crossentropy',\n",
    "    metrics='accuracy')\n",
    "\n",
    "h_cnn_2_model_adam = cnn_2_model_adam.fit(train_dataset, validation_data = test_dataset, epochs = 6)"
   ]
  },
  {
   "cell_type": "code",
   "execution_count": null,
   "metadata": {
    "colab": {
     "base_uri": "https://localhost:8080/",
     "height": 573
    },
    "id": "D6bE9Palm66w",
    "outputId": "05270dfd-03fe-4d1e-b0cf-73ab2d76f7c6"
   },
   "outputs": [],
   "source": [
    "plot_history(h_cnn_2_model_adam)"
   ]
  },
  {
   "cell_type": "markdown",
   "metadata": {
    "id": "Ii8D7H-FlsIt"
   },
   "source": [
    "https://paperswithcode.com/sota/image-classification-on-mnist"
   ]
  },
  {
   "cell_type": "code",
   "execution_count": null,
   "metadata": {
    "colab": {
     "base_uri": "https://localhost:8080/"
    },
    "id": "PMnu_DBhnDpX",
    "outputId": "2eee0db9-939b-4ec9-975c-f4b7d1b6c92a"
   },
   "outputs": [],
   "source": [
    "input_im = tf.keras.Input(shape=(28, 28, 1))\n",
    "x = tf.keras.layers.Conv2D(32, 5, strides=1, padding='same', activation=None, kernel_initializer='he_uniform')(input_im)\n",
    "x = tf.keras.layers.Dropout(0.3)(x)\n",
    "x = tf.keras.layers.BatchNormalization()(x)\n",
    "x = tf.keras.layers.ReLU()(x)\n",
    "x = tf.keras.layers.AveragePooling2D()(x)\n",
    "\n",
    "x = tf.keras.layers.Conv2D(64, 3, strides=1, padding='same', activation=None, kernel_initializer='he_uniform')(x)\n",
    "x = tf.keras.layers.BatchNormalization()(x)\n",
    "x = tf.keras.layers.ReLU()(x)\n",
    "x = tf.keras.layers.AveragePooling2D()(x)\n",
    "\n",
    "x = tf.keras.layers.GlobalAveragePooling2D()(x)\n",
    "#x = tf.keras.layers.Flatten()(x)\n",
    "x = tf.keras.layers.Dense(10, activation='softmax', kernel_initializer='he_uniform')(x)\n",
    "\n",
    "cnn_3_model_adam = tf.keras.Model(input_im, x)\n",
    "\n",
    "cnn_3_model_adam.summary()"
   ]
  },
  {
   "cell_type": "code",
   "execution_count": null,
   "metadata": {
    "colab": {
     "base_uri": "https://localhost:8080/"
    },
    "id": "qhhfZXfvn78E",
    "outputId": "70165a9f-7131-4b2d-db73-42618751709f"
   },
   "outputs": [],
   "source": [
    "optimizer = tf.keras.optimizers.Adam(\n",
    "    learning_rate=0.001,\n",
    "    beta_1=0.9,\n",
    "    beta_2=0.999,\n",
    "    epsilon=1e-07\n",
    ")\n",
    "\n",
    "cnn_3_model_adam.compile(\n",
    "    optimizer=optimizer,\n",
    "    loss='categorical_crossentropy',\n",
    "    metrics='accuracy')\n",
    "\n",
    "h_cnn_3_model_adam = cnn_3_model_adam.fit(train_dataset, validation_data = test_dataset, epochs = 6)"
   ]
  },
  {
   "cell_type": "code",
   "execution_count": null,
   "metadata": {
    "colab": {
     "base_uri": "https://localhost:8080/",
     "height": 573
    },
    "id": "W_nM0vw8oWD3",
    "outputId": "0e98f590-5c11-4e4d-afd6-70dfa4a2ef59"
   },
   "outputs": [],
   "source": [
    "plot_history(h_cnn_3_model_adam)"
   ]
  },
  {
   "cell_type": "code",
   "execution_count": null,
   "metadata": {
    "id": "oD0Ci0eroa9B"
   },
   "outputs": [],
   "source": []
  }
 ],
 "metadata": {
  "accelerator": "GPU",
  "colab": {
   "collapsed_sections": [],
   "name": "mnist_cnn.ipynb",
   "provenance": []
  },
  "kernelspec": {
   "display_name": "Python 3 (ipykernel)",
   "language": "python",
   "name": "python3"
  },
  "language_info": {
   "codemirror_mode": {
    "name": "ipython",
    "version": 3
   },
   "file_extension": ".py",
   "mimetype": "text/x-python",
   "name": "python",
   "nbconvert_exporter": "python",
   "pygments_lexer": "ipython3",
   "version": "3.8.13"
  }
 },
 "nbformat": 4,
 "nbformat_minor": 4
}

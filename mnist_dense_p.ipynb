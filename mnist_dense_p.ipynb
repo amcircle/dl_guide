{
 "cells": [
  {
   "cell_type": "code",
   "execution_count": 1,
   "id": "aff954fb-5ecd-4db3-bbfa-3ec9ac56c4c7",
   "metadata": {},
   "outputs": [
    {
     "name": "stderr",
     "output_type": "stream",
     "text": [
      "2022-10-29 13:06:13.469447: I tensorflow/core/util/util.cc:169] oneDNN custom operations are on. You may see slightly different numerical results due to floating-point round-off errors from different computation orders. To turn them off, set the environment variable `TF_ENABLE_ONEDNN_OPTS=0`.\n"
     ]
    },
    {
     "data": {
      "text/plain": [
       "<Figure size 432x288 with 0 Axes>"
      ]
     },
     "metadata": {},
     "output_type": "display_data"
    }
   ],
   "source": [
    "import tensorflow as tf\n",
    "from matplotlib import pyplot as plt\n",
    "\n",
    "plt.gray()"
   ]
  },
  {
   "cell_type": "code",
   "execution_count": 2,
   "id": "0560d6fe-561e-4f1a-b6c4-de3b1bb3f100",
   "metadata": {},
   "outputs": [],
   "source": [
    "(x_train, y_train), (x_test, y_test) = tf.keras.datasets.mnist.load_data(path=\"mnist.npz\")"
   ]
  },
  {
   "cell_type": "code",
   "execution_count": 3,
   "id": "14b319bc-b2ba-40de-b5f8-7af6d56a81a8",
   "metadata": {},
   "outputs": [
    {
     "name": "stdout",
     "output_type": "stream",
     "text": [
      "(60000, 28, 28) (60000,) (10000, 28, 28) (10000,)\n"
     ]
    }
   ],
   "source": [
    "print(x_train.shape, y_train.shape, x_test.shape, y_test.shape)"
   ]
  },
  {
   "cell_type": "code",
   "execution_count": 4,
   "id": "5c62e3f4-d385-4978-b404-e599e0a3eef6",
   "metadata": {},
   "outputs": [
    {
     "data": {
      "image/png": "[encoded data removed]",
      "text/plain": [
       "<Figure size 432x288 with 1 Axes>"
      ]
     },
     "metadata": {
      "needs_background": "light"
     },
     "output_type": "display_data"
    },
    {
     "name": "stdout",
     "output_type": "stream",
     "text": [
      "5\n"
     ]
    }
   ],
   "source": [
    "plt.imshow(x_train[0])\n",
    "plt.show()\n",
    "print(y_train[0])"
   ]
  },
  {
   "cell_type": "code",
   "execution_count": 5,
   "id": "8f88a639-18d3-4b7e-aa67-86dffe693784",
   "metadata": {},
   "outputs": [
    {
     "name": "stdout",
     "output_type": "stream",
     "text": [
      "height =  28 width =  28\n"
     ]
    }
   ],
   "source": [
    "_, height, width = x_train.shape\n",
    "\n",
    "print('height = ', height, 'width = ', width)"
   ]
  },
  {
   "cell_type": "code",
   "execution_count": 6,
   "id": "3bfaa55c-047f-482d-be1e-6e964719a911",
   "metadata": {},
   "outputs": [],
   "source": [
    "x_train = x_train / 255.0\n",
    "x_test = x_test / 255.0"
   ]
  },
  {
   "cell_type": "code",
   "execution_count": 8,
   "id": "397dc403-95d9-4f9d-9588-412b478a5d59",
   "metadata": {},
   "outputs": [
    {
     "name": "stdout",
     "output_type": "stream",
     "text": [
      "tf.Tensor(0.0, shape=(), dtype=float64) tf.Tensor(1.0, shape=(), dtype=float64)\n"
     ]
    }
   ],
   "source": [
    "print(tf.reduce_min(x_train), tf.reduce_max(x_train))"
   ]
  },
  {
   "cell_type": "code",
   "execution_count": 9,
   "id": "318c607f-e769-4ad3-87d5-d3b404b13b72",
   "metadata": {},
   "outputs": [],
   "source": [
    "y_train_onehot = tf.one_hot(y_train, 10)\n",
    "y_test_onehot = tf.one_hot(y_test, 10)"
   ]
  },
  {
   "cell_type": "code",
   "execution_count": 10,
   "id": "6fb7ba23-3fa1-4f25-89ce-b410c470f478",
   "metadata": {},
   "outputs": [],
   "source": [
    "train_dataset = tf.data.Dataset.from_tensor_slices((x_train, y_train_onehot))\n",
    "test_dataset = tf.data.Dataset.from_tensor_slices((x_test, y_test_onehot))\n",
    "\n",
    "train_dataset = train_dataset.shuffle(x_train.shape[0], reshuffle_each_iteration=True)\n",
    "test_dataset = test_dataset.shuffle(x_test.shape[0], reshuffle_each_iteration=True)\n",
    "\n",
    "train_dataset = train_dataset.batch(32)\n",
    "test_dataset = test_dataset.batch(32)"
   ]
  },
  {
   "cell_type": "code",
   "execution_count": 12,
   "id": "c188c8d9-763e-4bb9-b76f-8200cf811e57",
   "metadata": {},
   "outputs": [
    {
     "data": {
      "image/png": "[encoded data removed]",
      "text/plain": [
       "<Figure size 432x288 with 1 Axes>"
      ]
     },
     "metadata": {
      "needs_background": "light"
     },
     "output_type": "display_data"
    },
    {
     "name": "stdout",
     "output_type": "stream",
     "text": [
      "tf.Tensor([0. 1. 0. 0. 0. 0. 0. 0. 0. 0.], shape=(10,), dtype=float32)\n"
     ]
    }
   ],
   "source": [
    "for x,y in train_dataset.take(1):\n",
    "    plt.imshow(x[0])\n",
    "    plt.show()\n",
    "    \n",
    "    print(y[0])"
   ]
  },
  {
   "cell_type": "code",
   "execution_count": 13,
   "id": "bdc0935e-ed2b-4275-a9e3-f1669fb380fc",
   "metadata": {},
   "outputs": [
    {
     "name": "stdout",
     "output_type": "stream",
     "text": [
      "Model: \"model\"\n",
      "_________________________________________________________________\n",
      " Layer (type)                Output Shape              Param #   \n",
      "=================================================================\n",
      " input_1 (InputLayer)        [(None, 28, 28)]          0         \n",
      "                                                                 \n",
      " flatten (Flatten)           (None, 784)               0         \n",
      "                                                                 \n",
      " dense (Dense)               (None, 10)                7850      \n",
      "                                                                 \n",
      "=================================================================\n",
      "Total params: 7,850\n",
      "Trainable params: 7,850\n",
      "Non-trainable params: 0\n",
      "_________________________________________________________________\n"
     ]
    }
   ],
   "source": [
    "input_im = tf.keras.Input(shape=(height, width))\n",
    "x = tf.keras.layers.Flatten()(input_im)\n",
    "x = tf.keras.layers.Dense(10, activation='softmax', kernel_initializer='zeros')(x)\n",
    "\n",
    "logreg_model = tf.keras.Model(input_im, x)\n",
    "\n",
    "logreg_model.summary()"
   ]
  },
  {
   "cell_type": "code",
   "execution_count": 14,
   "id": "5f9949e7-086a-4826-9f97-c38e6fa44033",
   "metadata": {},
   "outputs": [],
   "source": [
    "logreg_model.compile(\n",
    "    optimizer='sgd',\n",
    "    loss='categorical_crossentropy',\n",
    "    metrics='accuracy')"
   ]
  },
  {
   "cell_type": "code",
   "execution_count": 15,
   "id": "0d428154-9ef4-4bc0-9a4a-a1cd26c9c7af",
   "metadata": {},
   "outputs": [
    {
     "name": "stdout",
     "output_type": "stream",
     "text": [
      "Epoch 1/20\n",
      " 167/1875 [=>............................] - ETA: 1s - loss: 1.7042 - accuracy: 0.6927"
     ]
    },
    {
     "name": "stderr",
     "output_type": "stream",
     "text": [
      "2022-10-29 14:46:16.500415: I tensorflow/stream_executor/cuda/cuda_blas.cc:1786] TensorFloat-32 will be used for the matrix multiplication. This will only be logged once.\n"
     ]
    },
    {
     "name": "stdout",
     "output_type": "stream",
     "text": [
      "1875/1875 [==============================] - 3s 1ms/step - loss: 0.7658 - accuracy: 0.8400 - val_loss: 0.4764 - val_accuracy: 0.8835\n",
      "Epoch 2/20\n",
      "1875/1875 [==============================] - 2s 1ms/step - loss: 0.4528 - accuracy: 0.8830 - val_loss: 0.3974 - val_accuracy: 0.8966\n",
      "Epoch 3/20\n",
      "1875/1875 [==============================] - 2s 1ms/step - loss: 0.4009 - accuracy: 0.8922 - val_loss: 0.3648 - val_accuracy: 0.9029\n",
      "Epoch 4/20\n",
      "1875/1875 [==============================] - 2s 996us/step - loss: 0.3750 - accuracy: 0.8978 - val_loss: 0.3465 - val_accuracy: 0.9068\n",
      "Epoch 5/20\n",
      "1875/1875 [==============================] - 2s 1ms/step - loss: 0.3584 - accuracy: 0.9016 - val_loss: 0.3338 - val_accuracy: 0.9105\n",
      "Epoch 6/20\n",
      "1875/1875 [==============================] - 2s 1ms/step - loss: 0.3469 - accuracy: 0.9040 - val_loss: 0.3254 - val_accuracy: 0.9106\n",
      "Epoch 7/20\n",
      "1875/1875 [==============================] - 2s 1ms/step - loss: 0.3380 - accuracy: 0.9062 - val_loss: 0.3187 - val_accuracy: 0.9129\n",
      "Epoch 8/20\n",
      "1875/1875 [==============================] - 2s 1ms/step - loss: 0.3309 - accuracy: 0.9083 - val_loss: 0.3136 - val_accuracy: 0.9144\n",
      "Epoch 9/20\n",
      "1875/1875 [==============================] - 2s 1ms/step - loss: 0.3252 - accuracy: 0.9095 - val_loss: 0.3097 - val_accuracy: 0.9152\n",
      "Epoch 10/20\n",
      "1875/1875 [==============================] - 2s 1ms/step - loss: 0.3204 - accuracy: 0.9107 - val_loss: 0.3053 - val_accuracy: 0.9157\n",
      "Epoch 11/20\n",
      "1875/1875 [==============================] - 2s 1ms/step - loss: 0.3162 - accuracy: 0.9121 - val_loss: 0.3018 - val_accuracy: 0.9171\n",
      "Epoch 12/20\n",
      "1875/1875 [==============================] - 2s 1ms/step - loss: 0.3126 - accuracy: 0.9129 - val_loss: 0.3001 - val_accuracy: 0.9170\n",
      "Epoch 13/20\n",
      "1875/1875 [==============================] - 2s 1ms/step - loss: 0.3094 - accuracy: 0.9141 - val_loss: 0.2971 - val_accuracy: 0.9191\n",
      "Epoch 14/20\n",
      "1875/1875 [==============================] - 2s 1ms/step - loss: 0.3065 - accuracy: 0.9152 - val_loss: 0.2945 - val_accuracy: 0.9181\n",
      "Epoch 15/20\n",
      "1875/1875 [==============================] - 2s 1ms/step - loss: 0.3041 - accuracy: 0.9155 - val_loss: 0.2931 - val_accuracy: 0.9190\n",
      "Epoch 16/20\n",
      "1875/1875 [==============================] - 2s 963us/step - loss: 0.3018 - accuracy: 0.9165 - val_loss: 0.2915 - val_accuracy: 0.9183\n",
      "Epoch 17/20\n",
      "1875/1875 [==============================] - 2s 1ms/step - loss: 0.2997 - accuracy: 0.9171 - val_loss: 0.2903 - val_accuracy: 0.9194\n",
      "Epoch 18/20\n",
      "1875/1875 [==============================] - 2s 1ms/step - loss: 0.2978 - accuracy: 0.9172 - val_loss: 0.2886 - val_accuracy: 0.9204\n",
      "Epoch 19/20\n",
      "1875/1875 [==============================] - 2s 1ms/step - loss: 0.2960 - accuracy: 0.9175 - val_loss: 0.2871 - val_accuracy: 0.9200\n",
      "Epoch 20/20\n",
      "1875/1875 [==============================] - 2s 984us/step - loss: 0.2944 - accuracy: 0.9184 - val_loss: 0.2862 - val_accuracy: 0.9201\n"
     ]
    }
   ],
   "source": [
    "history_logreg = logreg_model.fit(train_dataset, validation_data = test_dataset, epochs = 20)"
   ]
  },
  {
   "cell_type": "code",
   "execution_count": 19,
   "id": "1053ba4e-d499-46db-946a-25f25c2c7f0d",
   "metadata": {},
   "outputs": [],
   "source": [
    "[wx,wc] = logreg_model.layers[-1].get_weights()"
   ]
  },
  {
   "cell_type": "code",
   "execution_count": 33,
   "id": "82c55a63-4a71-4d34-b9b3-f1b18127912b",
   "metadata": {},
   "outputs": [
    {
     "data": {
      "text/plain": [
       "0.06869104"
      ]
     },
     "execution_count": 33,
     "metadata": {},
     "output_type": "execute_result"
    }
   ],
   "source": [
    "import numpy as np\n",
    "np.mean(np.abs(wx))"
   ]
  },
  {
   "cell_type": "code",
   "execution_count": 32,
   "id": "401f450a-fb48-48ee-a1fc-1163c88c3a21",
   "metadata": {},
   "outputs": [
    {
     "data": {
      "text/plain": [
       "0.4040615"
      ]
     },
     "execution_count": 32,
     "metadata": {},
     "output_type": "execute_result"
    }
   ],
   "source": [
    "np.mean(np.abs(wc))"
   ]
  },
  {
   "cell_type": "code",
   "execution_count": 24,
   "id": "c09877f7-c711-4edf-acfb-46ac6236a86e",
   "metadata": {},
   "outputs": [
    {
     "data": {
      "text/plain": [
       "(784, 10)"
      ]
     },
     "execution_count": 24,
     "metadata": {},
     "output_type": "execute_result"
    }
   ],
   "source": [
    "wx.shape"
   ]
  },
  {
   "cell_type": "code",
   "execution_count": 25,
   "id": "65f99b15-c470-44a2-9702-1684afa44ad1",
   "metadata": {},
   "outputs": [
    {
     "data": {
      "text/plain": [
       "<matplotlib.image.AxesImage at 0x7feed8098550>"
      ]
     },
     "execution_count": 25,
     "metadata": {},
     "output_type": "execute_result"
    },
    {
     "data": {
      "image/png": "[encoded data removed]",
      "text/plain": [
       "<Figure size 288x1152 with 1 Axes>"
      ]
     },
     "metadata": {
      "needs_background": "light"
     },
     "output_type": "display_data"
    }
   ],
   "source": [
    "plt.matshow(wx)"
   ]
  },
  {
   "cell_type": "code",
   "execution_count": 34,
   "id": "50d2a879-30b3-42d6-a304-7c6961d611ea",
   "metadata": {},
   "outputs": [],
   "source": [
    "def plot_history(h):\n",
    "    plt.plot(h.history['accuracy'])\n",
    "    plt.plot(h.history['val_accuracy'])\n",
    "    plt.title('model accuracy')\n",
    "    plt.ylabel('accuracy')\n",
    "    plt.xlabel('epoch')\n",
    "    plt.legend(['train', 'val'], loc='upper left')\n",
    "    plt.show()\n",
    "\n",
    "    plt.plot(h.history['loss'])\n",
    "    plt.plot(h.history['val_loss'])\n",
    "    plt.title('model loss')\n",
    "    plt.ylabel('loss')\n",
    "    plt.xlabel('epoch')\n",
    "    plt.legend(['train', 'val'], loc='upper left')\n",
    "    plt.show()"
   ]
  },
  {
   "cell_type": "code",
   "execution_count": 35,
   "id": "f27d7747-3b0d-4ed2-80d2-f0abc128f19b",
   "metadata": {},
   "outputs": [
    {
     "data": {
      "image/png": "[encoded data removed]",
      "text/plain": [
       "<Figure size 432x288 with 1 Axes>"
      ]
     },
     "metadata": {
      "needs_background": "light"
     },
     "output_type": "display_data"
    },
    {
     "data": {
      "image/png": "[encoded data removed]",
      "text/plain": [
       "<Figure size 432x288 with 1 Axes>"
      ]
     },
     "metadata": {
      "needs_background": "light"
     },
     "output_type": "display_data"
    }
   ],
   "source": [
    "plot_history(history_logreg)"
   ]
  },
  {
   "cell_type": "code",
   "execution_count": 36,
   "id": "44f7df61-1d67-4702-80d3-07defb185efc",
   "metadata": {},
   "outputs": [
    {
     "name": "stdout",
     "output_type": "stream",
     "text": [
      "Model: \"model_1\"\n",
      "_________________________________________________________________\n",
      " Layer (type)                Output Shape              Param #   \n",
      "=================================================================\n",
      " input_2 (InputLayer)        [(None, 28, 28)]          0         \n",
      "                                                                 \n",
      " flatten_1 (Flatten)         (None, 784)               0         \n",
      "                                                                 \n",
      " dense_1 (Dense)             (None, 250)               196250    \n",
      "                                                                 \n",
      " dense_2 (Dense)             (None, 100)               25100     \n",
      "                                                                 \n",
      " dense_3 (Dense)             (None, 10)                1010      \n",
      "                                                                 \n",
      "=================================================================\n",
      "Total params: 222,360\n",
      "Trainable params: 222,360\n",
      "Non-trainable params: 0\n",
      "_________________________________________________________________\n"
     ]
    }
   ],
   "source": [
    "input_im = tf.keras.Input(shape=(height, width))\n",
    "x = tf.keras.layers.Flatten()(input_im)\n",
    "x = tf.keras.layers.Dense(250, activation='sigmoid', kernel_initializer=tf.keras.initializers.GlorotNormal())(x)\n",
    "x = tf.keras.layers.Dense(100, activation='sigmoid', kernel_initializer=tf.keras.initializers.GlorotNormal())(x)\n",
    "x = tf.keras.layers.Dense(10, activation='softmax', kernel_initializer=tf.keras.initializers.GlorotNormal())(x)\n",
    "\n",
    "dummy_deep_model = tf.keras.Model(input_im, x)\n",
    "\n",
    "dummy_deep_model.summary()"
   ]
  },
  {
   "cell_type": "code",
   "execution_count": 37,
   "id": "b9b77127-90cc-4ef1-bd51-9a370d0ea307",
   "metadata": {},
   "outputs": [],
   "source": [
    "dummy_deep_model.compile(\n",
    "    optimizer='sgd',\n",
    "    loss='categorical_crossentropy',\n",
    "    metrics='accuracy')"
   ]
  },
  {
   "cell_type": "code",
   "execution_count": 38,
   "id": "8eca93db-a5b0-4510-94a1-8a07fe1b6488",
   "metadata": {},
   "outputs": [
    {
     "name": "stdout",
     "output_type": "stream",
     "text": [
      "Epoch 1/20\n",
      "1875/1875 [==============================] - 2s 1ms/step - loss: 2.1599 - accuracy: 0.3968 - val_loss: 1.9283 - val_accuracy: 0.6452\n",
      "Epoch 2/20\n",
      "1875/1875 [==============================] - 2s 1ms/step - loss: 1.5409 - accuracy: 0.6949 - val_loss: 1.1393 - val_accuracy: 0.7632\n",
      "Epoch 3/20\n",
      "1875/1875 [==============================] - 2s 1ms/step - loss: 0.9350 - accuracy: 0.7890 - val_loss: 0.7565 - val_accuracy: 0.8213\n",
      "Epoch 4/20\n",
      "1875/1875 [==============================] - 2s 1ms/step - loss: 0.6813 - accuracy: 0.8315 - val_loss: 0.5884 - val_accuracy: 0.8509\n",
      "Epoch 5/20\n",
      "1875/1875 [==============================] - 2s 1ms/step - loss: 0.5566 - accuracy: 0.8578 - val_loss: 0.4961 - val_accuracy: 0.8733\n",
      "Epoch 6/20\n",
      "1875/1875 [==============================] - 2s 1ms/step - loss: 0.4837 - accuracy: 0.8722 - val_loss: 0.4389 - val_accuracy: 0.8875\n",
      "Epoch 7/20\n",
      "1875/1875 [==============================] - 2s 1ms/step - loss: 0.4369 - accuracy: 0.8825 - val_loss: 0.4011 - val_accuracy: 0.8917\n",
      "Epoch 8/20\n",
      "1875/1875 [==============================] - 2s 1ms/step - loss: 0.4052 - accuracy: 0.8892 - val_loss: 0.3756 - val_accuracy: 0.8955\n",
      "Epoch 9/20\n",
      "1875/1875 [==============================] - 2s 1ms/step - loss: 0.3824 - accuracy: 0.8938 - val_loss: 0.3573 - val_accuracy: 0.8995\n",
      "Epoch 10/20\n",
      "1875/1875 [==============================] - 2s 1ms/step - loss: 0.3651 - accuracy: 0.8972 - val_loss: 0.3424 - val_accuracy: 0.9033\n",
      "Epoch 11/20\n",
      "1875/1875 [==============================] - 2s 1ms/step - loss: 0.3515 - accuracy: 0.9007 - val_loss: 0.3303 - val_accuracy: 0.9050\n",
      "Epoch 12/20\n",
      "1875/1875 [==============================] - 2s 1ms/step - loss: 0.3405 - accuracy: 0.9029 - val_loss: 0.3214 - val_accuracy: 0.9082\n",
      "Epoch 13/20\n",
      "1875/1875 [==============================] - 2s 1ms/step - loss: 0.3309 - accuracy: 0.9053 - val_loss: 0.3134 - val_accuracy: 0.9101\n",
      "Epoch 14/20\n",
      "1875/1875 [==============================] - 2s 1ms/step - loss: 0.3228 - accuracy: 0.9072 - val_loss: 0.3052 - val_accuracy: 0.9125\n",
      "Epoch 15/20\n",
      "1875/1875 [==============================] - 2s 1ms/step - loss: 0.3156 - accuracy: 0.9093 - val_loss: 0.2986 - val_accuracy: 0.9134\n",
      "Epoch 16/20\n",
      "1875/1875 [==============================] - 2s 1ms/step - loss: 0.3091 - accuracy: 0.9107 - val_loss: 0.2942 - val_accuracy: 0.9143\n",
      "Epoch 17/20\n",
      "1875/1875 [==============================] - 2s 1ms/step - loss: 0.3032 - accuracy: 0.9121 - val_loss: 0.2896 - val_accuracy: 0.9160\n",
      "Epoch 18/20\n",
      "1875/1875 [==============================] - 2s 1ms/step - loss: 0.2976 - accuracy: 0.9140 - val_loss: 0.2846 - val_accuracy: 0.9186\n",
      "Epoch 19/20\n",
      "1875/1875 [==============================] - 2s 1ms/step - loss: 0.2924 - accuracy: 0.9155 - val_loss: 0.2800 - val_accuracy: 0.9196\n",
      "Epoch 20/20\n",
      "1875/1875 [==============================] - 2s 1ms/step - loss: 0.2876 - accuracy: 0.9163 - val_loss: 0.2757 - val_accuracy: 0.9193\n"
     ]
    }
   ],
   "source": [
    "history_dummy_deep_model = dummy_deep_model.fit(train_dataset, validation_data = test_dataset, epochs = 20)"
   ]
  },
  {
   "cell_type": "code",
   "execution_count": 41,
   "id": "e52f326a-e395-40c1-9e55-14a65cf0f204",
   "metadata": {},
   "outputs": [],
   "source": [
    "train_dataset_ae = train_dataset.unbatch().map(lambda x,y: (x,x)).batch(32)\n",
    "test_dataset_ae = test_dataset.unbatch().map(lambda x,y: (x,x)).batch(32)"
   ]
  },
  {
   "cell_type": "code",
   "execution_count": 51,
   "id": "d9f6dbb1-1a6a-4a4f-b12f-bdcb3a4b23af",
   "metadata": {},
   "outputs": [
    {
     "name": "stdout",
     "output_type": "stream",
     "text": [
      "Model: \"model_11\"\n",
      "_________________________________________________________________\n",
      " Layer (type)                Output Shape              Param #   \n",
      "=================================================================\n",
      " input_14 (InputLayer)       [(None, 28, 28)]          0         \n",
      "                                                                 \n",
      " flatten_13 (Flatten)        (None, 784)               0         \n",
      "                                                                 \n",
      " dense_32 (Dense)            (None, 250)               196250    \n",
      "                                                                 \n",
      " dense_33 (Dense)            (None, 784)               196784    \n",
      "                                                                 \n",
      " reshape_8 (Reshape)         (None, 28, 28)            0         \n",
      "                                                                 \n",
      "=================================================================\n",
      "Total params: 393,034\n",
      "Trainable params: 393,034\n",
      "Non-trainable params: 0\n",
      "_________________________________________________________________\n",
      "Epoch 1/20\n",
      "1875/1875 [==============================] - 2s 928us/step - loss: 0.2038 - val_loss: 0.1795\n",
      "Epoch 2/20\n",
      "1875/1875 [==============================] - 2s 890us/step - loss: 0.1604 - val_loss: 0.1438\n",
      "Epoch 3/20\n",
      "1875/1875 [==============================] - 2s 893us/step - loss: 0.1310 - val_loss: 0.1200\n",
      "Epoch 4/20\n",
      "1875/1875 [==============================] - 2s 906us/step - loss: 0.1116 - val_loss: 0.1045\n",
      "Epoch 5/20\n",
      "1875/1875 [==============================] - 2s 908us/step - loss: 0.0992 - val_loss: 0.0946\n",
      "Epoch 6/20\n",
      "1875/1875 [==============================] - 2s 903us/step - loss: 0.0910 - val_loss: 0.0881\n",
      "Epoch 7/20\n",
      "1875/1875 [==============================] - 2s 899us/step - loss: 0.0857 - val_loss: 0.0837\n",
      "Epoch 8/20\n",
      "1875/1875 [==============================] - 2s 898us/step - loss: 0.0820 - val_loss: 0.0806\n",
      "Epoch 9/20\n",
      "1875/1875 [==============================] - 2s 881us/step - loss: 0.0793 - val_loss: 0.0784\n",
      "Epoch 10/20\n",
      "1875/1875 [==============================] - 2s 898us/step - loss: 0.0774 - val_loss: 0.0768\n",
      "Epoch 11/20\n",
      "1875/1875 [==============================] - 2s 897us/step - loss: 0.0760 - val_loss: 0.0755\n",
      "Epoch 12/20\n",
      "1875/1875 [==============================] - 2s 891us/step - loss: 0.0749 - val_loss: 0.0746\n",
      "Epoch 13/20\n",
      "1875/1875 [==============================] - 2s 891us/step - loss: 0.0740 - val_loss: 0.0738\n",
      "Epoch 14/20\n",
      "1875/1875 [==============================] - 2s 887us/step - loss: 0.0733 - val_loss: 0.0732\n",
      "Epoch 15/20\n",
      "1875/1875 [==============================] - 2s 905us/step - loss: 0.0727 - val_loss: 0.0726\n",
      "Epoch 16/20\n",
      "1875/1875 [==============================] - 2s 901us/step - loss: 0.0723 - val_loss: 0.0722\n",
      "Epoch 17/20\n",
      "1875/1875 [==============================] - 2s 897us/step - loss: 0.0719 - val_loss: 0.0719\n",
      "Epoch 18/20\n",
      "1875/1875 [==============================] - 2s 903us/step - loss: 0.0715 - val_loss: 0.0715\n",
      "Epoch 19/20\n",
      "1875/1875 [==============================] - 2s 902us/step - loss: 0.0712 - val_loss: 0.0713\n",
      "Epoch 20/20\n",
      "1875/1875 [==============================] - 2s 907us/step - loss: 0.0710 - val_loss: 0.0710\n"
     ]
    },
    {
     "data": {
      "text/plain": [
       "<keras.callbacks.History at 0x7feeb016b760>"
      ]
     },
     "execution_count": 51,
     "metadata": {},
     "output_type": "execute_result"
    }
   ],
   "source": [
    "input_im = tf.keras.Input(shape=(height, width))\n",
    "flat_im = tf.keras.layers.Flatten()(input_im)\n",
    "encoder_l1 = tf.keras.layers.Dense(250, activation='sigmoid', kernel_initializer='zeros')\n",
    "decoder_l1 = tf.keras.layers.Dense(flat_im.shape[-1], activation='sigmoid', kernel_initializer='zeros')\n",
    "xo = decoder_l1(encoder_l1(flat_im))\n",
    "xo = tf.keras.layers.Reshape((height, width))(xo)\n",
    "# x = tf.keras.layers.Dense(100, activation='sigmoid', kernel_initializer='zeros')(x)\n",
    "# x = tf.keras.layers.Dense(10, activation='softmax', kernel_initializer='zeros')(x)\n",
    "\n",
    "dummy_deep_model_ae_1 = tf.keras.Model(input_im, xo)\n",
    "\n",
    "dummy_deep_model_ae_1.summary()\n",
    "\n",
    "dummy_deep_model_ae_1.compile(\n",
    "    optimizer='sgd',\n",
    "    loss='mse')\n",
    "\n",
    "dummy_deep_model_ae_1.fit(train_dataset_ae, validation_data = test_dataset_ae, epochs = 20)"
   ]
  },
  {
   "cell_type": "code",
   "execution_count": 55,
   "id": "43bb744e-abe6-4e57-ab97-34f904f6b2bb",
   "metadata": {},
   "outputs": [
    {
     "name": "stdout",
     "output_type": "stream",
     "text": [
      "Model: \"model_14\"\n",
      "_________________________________________________________________\n",
      " Layer (type)                Output Shape              Param #   \n",
      "=================================================================\n",
      " input_18 (InputLayer)       [(None, 28, 28)]          0         \n",
      "                                                                 \n",
      " flatten_17 (Flatten)        (None, 784)               0         \n",
      "                                                                 \n",
      " dense_32 (Dense)            (None, 250)               196250    \n",
      "                                                                 \n",
      " dense_40 (Dense)            (None, 100)               25100     \n",
      "                                                                 \n",
      " dense_41 (Dense)            (None, 250)               25250     \n",
      "                                                                 \n",
      " dense_33 (Dense)            (None, 784)               196784    \n",
      "                                                                 \n",
      " reshape_11 (Reshape)        (None, 28, 28)            0         \n",
      "                                                                 \n",
      "=================================================================\n",
      "Total params: 443,384\n",
      "Trainable params: 50,350\n",
      "Non-trainable params: 393,034\n",
      "_________________________________________________________________\n",
      "Epoch 1/20\n",
      "1875/1875 [==============================] - 2s 977us/step - loss: 0.0778 - val_loss: 0.0776\n",
      "Epoch 2/20\n",
      "1875/1875 [==============================] - 2s 922us/step - loss: 0.0771 - val_loss: 0.0770\n",
      "Epoch 3/20\n",
      "1875/1875 [==============================] - 2s 936us/step - loss: 0.0765 - val_loss: 0.0764\n",
      "Epoch 4/20\n",
      "1875/1875 [==============================] - 2s 941us/step - loss: 0.0760 - val_loss: 0.0759\n",
      "Epoch 5/20\n",
      "1875/1875 [==============================] - 2s 930us/step - loss: 0.0754 - val_loss: 0.0754\n",
      "Epoch 6/20\n",
      "1875/1875 [==============================] - 2s 946us/step - loss: 0.0750 - val_loss: 0.0749\n",
      "Epoch 7/20\n",
      "1875/1875 [==============================] - 2s 951us/step - loss: 0.0745 - val_loss: 0.0745\n",
      "Epoch 8/20\n",
      "1875/1875 [==============================] - 2s 955us/step - loss: 0.0741 - val_loss: 0.0741\n",
      "Epoch 9/20\n",
      "1875/1875 [==============================] - 2s 944us/step - loss: 0.0737 - val_loss: 0.0737\n",
      "Epoch 10/20\n",
      "1875/1875 [==============================] - 2s 943us/step - loss: 0.0733 - val_loss: 0.0734\n",
      "Epoch 11/20\n",
      "1875/1875 [==============================] - 2s 930us/step - loss: 0.0730 - val_loss: 0.0730\n",
      "Epoch 12/20\n",
      "1875/1875 [==============================] - 2s 951us/step - loss: 0.0727 - val_loss: 0.0727\n",
      "Epoch 13/20\n",
      "1875/1875 [==============================] - 2s 951us/step - loss: 0.0724 - val_loss: 0.0724\n",
      "Epoch 14/20\n",
      "1875/1875 [==============================] - 2s 943us/step - loss: 0.0721 - val_loss: 0.0722\n",
      "Epoch 15/20\n",
      "1875/1875 [==============================] - 2s 930us/step - loss: 0.0718 - val_loss: 0.0719\n",
      "Epoch 16/20\n",
      "1875/1875 [==============================] - 2s 942us/step - loss: 0.0716 - val_loss: 0.0717\n",
      "Epoch 17/20\n",
      "1875/1875 [==============================] - 2s 947us/step - loss: 0.0714 - val_loss: 0.0715\n",
      "Epoch 18/20\n",
      "1875/1875 [==============================] - 2s 946us/step - loss: 0.0712 - val_loss: 0.0713\n",
      "Epoch 19/20\n",
      "1875/1875 [==============================] - 2s 936us/step - loss: 0.0710 - val_loss: 0.0711\n",
      "Epoch 20/20\n",
      "1875/1875 [==============================] - 2s 931us/step - loss: 0.0708 - val_loss: 0.0710\n"
     ]
    },
    {
     "data": {
      "text/plain": [
       "<keras.callbacks.History at 0x7feeb007be50>"
      ]
     },
     "execution_count": 55,
     "metadata": {},
     "output_type": "execute_result"
    }
   ],
   "source": [
    "input_im = tf.keras.Input(shape=(height, width))\n",
    "flat_im = tf.keras.layers.Flatten()(input_im)\n",
    "encoder_l2 = tf.keras.layers.Dense(100, activation='sigmoid', kernel_initializer='zeros')\n",
    "decoder_l2 = tf.keras.layers.Dense(250, activation='sigmoid', kernel_initializer='zeros')\n",
    "xo = decoder_l1(decoder_l2(encoder_l2(encoder_l1(flat_im))))\n",
    "xo = tf.keras.layers.Reshape((height, width))(xo)\n",
    "# x = tf.keras.layers.Dense(100, activation='sigmoid', kernel_initializer='zeros')(x)\n",
    "# x = tf.keras.layers.Dense(10, activation='softmax', kernel_initializer='zeros')(x)\n",
    "\n",
    "decoder_l1.trainable = False\n",
    "encoder_l1.trainable = False\n",
    "\n",
    "dummy_deep_model_ae_2 = tf.keras.Model(input_im, xo)\n",
    "\n",
    "dummy_deep_model_ae_2.summary()\n",
    "\n",
    "dummy_deep_model_ae_2.compile(\n",
    "    optimizer='sgd',\n",
    "    loss='mse')\n",
    "\n",
    "dummy_deep_model_ae_2.fit(train_dataset_ae, validation_data = test_dataset_ae, epochs = 20)"
   ]
  },
  {
   "cell_type": "code",
   "execution_count": 70,
   "id": "d368641e-e1eb-4927-88f6-61da3861ef84",
   "metadata": {},
   "outputs": [
    {
     "data": {
      "image/png": "[encoded data removed]",
      "text/plain": [
       "<Figure size 432x288 with 1 Axes>"
      ]
     },
     "metadata": {
      "needs_background": "light"
     },
     "output_type": "display_data"
    },
    {
     "data": {
      "image/png": "[encoded data removed]",
      "text/plain": [
       "<Figure size 432x288 with 1 Axes>"
      ]
     },
     "metadata": {
      "needs_background": "light"
     },
     "output_type": "display_data"
    }
   ],
   "source": [
    "for x,y in train_dataset_ae.take(1):\n",
    "    plt.imshow(x[0])\n",
    "    plt.show()\n",
    "    plt.imshow(dummy_deep_model_ae_2(x)[0])\n",
    "    plt.show()"
   ]
  },
  {
   "cell_type": "code",
   "execution_count": 61,
   "id": "72d79788-2f1e-41a6-b04b-8c4e92ac568b",
   "metadata": {},
   "outputs": [
    {
     "name": "stdout",
     "output_type": "stream",
     "text": [
      "Epoch 1/20\n",
      "1875/1875 [==============================] - 2s 958us/step - loss: 0.0707 - val_loss: 0.0708\n",
      "Epoch 2/20\n",
      "1875/1875 [==============================] - 2s 935us/step - loss: 0.0705 - val_loss: 0.0707\n",
      "Epoch 3/20\n",
      "1875/1875 [==============================] - 2s 942us/step - loss: 0.0704 - val_loss: 0.0706\n",
      "Epoch 4/20\n",
      "1875/1875 [==============================] - 2s 944us/step - loss: 0.0703 - val_loss: 0.0704\n",
      "Epoch 5/20\n",
      "1875/1875 [==============================] - 2s 929us/step - loss: 0.0702 - val_loss: 0.0703\n",
      "Epoch 6/20\n",
      "1875/1875 [==============================] - 2s 941us/step - loss: 0.0700 - val_loss: 0.0702\n",
      "Epoch 7/20\n",
      "1875/1875 [==============================] - 2s 945us/step - loss: 0.0700 - val_loss: 0.0701\n",
      "Epoch 8/20\n",
      "1875/1875 [==============================] - 2s 921us/step - loss: 0.0699 - val_loss: 0.0701\n",
      "Epoch 9/20\n",
      "1875/1875 [==============================] - 2s 937us/step - loss: 0.0698 - val_loss: 0.0700\n",
      "Epoch 10/20\n",
      "1875/1875 [==============================] - 2s 950us/step - loss: 0.0697 - val_loss: 0.0699\n",
      "Epoch 11/20\n",
      "1875/1875 [==============================] - 2s 955us/step - loss: 0.0696 - val_loss: 0.0698\n",
      "Epoch 12/20\n",
      "1875/1875 [==============================] - 2s 946us/step - loss: 0.0696 - val_loss: 0.0698\n",
      "Epoch 13/20\n",
      "1875/1875 [==============================] - 2s 939us/step - loss: 0.0695 - val_loss: 0.0697\n",
      "Epoch 14/20\n",
      "1875/1875 [==============================] - 2s 930us/step - loss: 0.0694 - val_loss: 0.0697\n",
      "Epoch 15/20\n",
      "1875/1875 [==============================] - 2s 932us/step - loss: 0.0694 - val_loss: 0.0696\n",
      "Epoch 16/20\n",
      "1875/1875 [==============================] - 2s 931us/step - loss: 0.0693 - val_loss: 0.0696\n",
      "Epoch 17/20\n",
      "1875/1875 [==============================] - 2s 938us/step - loss: 0.0693 - val_loss: 0.0695\n",
      "Epoch 18/20\n",
      "1875/1875 [==============================] - 2s 939us/step - loss: 0.0693 - val_loss: 0.0695\n",
      "Epoch 19/20\n",
      "1875/1875 [==============================] - 2s 941us/step - loss: 0.0692 - val_loss: 0.0694\n",
      "Epoch 20/20\n",
      "1875/1875 [==============================] - 2s 954us/step - loss: 0.0692 - val_loss: 0.0694\n"
     ]
    },
    {
     "data": {
      "text/plain": [
       "<keras.callbacks.History at 0x7feeb0033a90>"
      ]
     },
     "execution_count": 61,
     "metadata": {},
     "output_type": "execute_result"
    }
   ],
   "source": [
    "dummy_deep_model_ae_2.fit(train_dataset_ae, validation_data = test_dataset_ae, epochs = 20)"
   ]
  },
  {
   "cell_type": "code",
   "execution_count": 72,
   "id": "347371cf-912b-4198-a730-c844547ca63d",
   "metadata": {},
   "outputs": [
    {
     "name": "stdout",
     "output_type": "stream",
     "text": [
      "Model: \"model_16\"\n",
      "_________________________________________________________________\n",
      " Layer (type)                Output Shape              Param #   \n",
      "=================================================================\n",
      " input_20 (InputLayer)       [(None, 28, 28)]          0         \n",
      "                                                                 \n",
      " flatten_19 (Flatten)        (None, 784)               0         \n",
      "                                                                 \n",
      " dense_32 (Dense)            (None, 250)               196250    \n",
      "                                                                 \n",
      " dense_40 (Dense)            (None, 100)               25100     \n",
      "                                                                 \n",
      " dense_43 (Dense)            (None, 10)                1010      \n",
      "                                                                 \n",
      "=================================================================\n",
      "Total params: 222,360\n",
      "Trainable params: 222,360\n",
      "Non-trainable params: 0\n",
      "_________________________________________________________________\n"
     ]
    }
   ],
   "source": [
    "input_im = tf.keras.Input(shape=(height, width))\n",
    "x = tf.keras.layers.Flatten()(input_im)\n",
    "x = encoder_l1(x)\n",
    "x = encoder_l2(x)\n",
    "x = tf.keras.layers.Dense(10, activation='softmax', kernel_initializer=tf.keras.initializers.GlorotNormal())(x)\n",
    "\n",
    "encoder_l1.trainable = True\n",
    "\n",
    "dummy_deep_model_2 = tf.keras.Model(input_im, x)\n",
    "\n",
    "dummy_deep_model_2.summary()"
   ]
  },
  {
   "cell_type": "code",
   "execution_count": 73,
   "id": "d0d230c6-70bb-40bd-b8ed-7432e8ce3611",
   "metadata": {},
   "outputs": [],
   "source": [
    "dummy_deep_model_2.compile(\n",
    "    optimizer='sgd',\n",
    "    loss='categorical_crossentropy',\n",
    "    metrics='accuracy')"
   ]
  },
  {
   "cell_type": "code",
   "execution_count": 74,
   "id": "7b5b5b4f-7678-45de-9515-e36284a9df87",
   "metadata": {},
   "outputs": [
    {
     "name": "stdout",
     "output_type": "stream",
     "text": [
      "Epoch 1/20\n",
      "1875/1875 [==============================] - 2s 1ms/step - loss: 2.3070 - accuracy: 0.1060 - val_loss: 2.3020 - val_accuracy: 0.1009\n",
      "Epoch 2/20\n",
      "1875/1875 [==============================] - 2s 1ms/step - loss: 2.3031 - accuracy: 0.1101 - val_loss: 2.3014 - val_accuracy: 0.1194\n",
      "Epoch 3/20\n",
      "1875/1875 [==============================] - 2s 1ms/step - loss: 2.2984 - accuracy: 0.1252 - val_loss: 2.2929 - val_accuracy: 0.1602\n",
      "Epoch 4/20\n",
      "1875/1875 [==============================] - 2s 1ms/step - loss: 2.2895 - accuracy: 0.1445 - val_loss: 2.2825 - val_accuracy: 0.1200\n",
      "Epoch 5/20\n",
      "1875/1875 [==============================] - 2s 1ms/step - loss: 2.2766 - accuracy: 0.1701 - val_loss: 2.2642 - val_accuracy: 0.1813\n",
      "Epoch 6/20\n",
      "1875/1875 [==============================] - 2s 1ms/step - loss: 2.2550 - accuracy: 0.1922 - val_loss: 2.2369 - val_accuracy: 0.2252\n",
      "Epoch 7/20\n",
      "1875/1875 [==============================] - 2s 1ms/step - loss: 2.2181 - accuracy: 0.2133 - val_loss: 2.1899 - val_accuracy: 0.2104\n",
      "Epoch 8/20\n",
      "1875/1875 [==============================] - 2s 1ms/step - loss: 2.1598 - accuracy: 0.2359 - val_loss: 2.1201 - val_accuracy: 0.2129\n",
      "Epoch 9/20\n",
      "1875/1875 [==============================] - 2s 1ms/step - loss: 2.0839 - accuracy: 0.2578 - val_loss: 2.0363 - val_accuracy: 0.2675\n",
      "Epoch 10/20\n",
      "1875/1875 [==============================] - 2s 1ms/step - loss: 2.0103 - accuracy: 0.2777 - val_loss: 1.9685 - val_accuracy: 0.2960\n",
      "Epoch 11/20\n",
      "1875/1875 [==============================] - 2s 1ms/step - loss: 1.9509 - accuracy: 0.2924 - val_loss: 1.9107 - val_accuracy: 0.3045\n",
      "Epoch 12/20\n",
      "1875/1875 [==============================] - 2s 1ms/step - loss: 1.9001 - accuracy: 0.3003 - val_loss: 1.8629 - val_accuracy: 0.3180\n",
      "Epoch 13/20\n",
      "1875/1875 [==============================] - 2s 1ms/step - loss: 1.8531 - accuracy: 0.3126 - val_loss: 1.8119 - val_accuracy: 0.3252\n",
      "Epoch 14/20\n",
      "1875/1875 [==============================] - 2s 1ms/step - loss: 1.8103 - accuracy: 0.3207 - val_loss: 1.7698 - val_accuracy: 0.3317\n",
      "Epoch 15/20\n",
      "1875/1875 [==============================] - 2s 1ms/step - loss: 1.7722 - accuracy: 0.3304 - val_loss: 1.7334 - val_accuracy: 0.3366\n",
      "Epoch 16/20\n",
      "1875/1875 [==============================] - 2s 1ms/step - loss: 1.7398 - accuracy: 0.3374 - val_loss: 1.7026 - val_accuracy: 0.3411\n",
      "Epoch 17/20\n",
      "1875/1875 [==============================] - 2s 1ms/step - loss: 1.7122 - accuracy: 0.3453 - val_loss: 1.6767 - val_accuracy: 0.3535\n",
      "Epoch 18/20\n",
      "1875/1875 [==============================] - 2s 1ms/step - loss: 1.6895 - accuracy: 0.3515 - val_loss: 1.6575 - val_accuracy: 0.3502\n",
      "Epoch 19/20\n",
      "1875/1875 [==============================] - 2s 1ms/step - loss: 1.6707 - accuracy: 0.3567 - val_loss: 1.6432 - val_accuracy: 0.3487\n",
      "Epoch 20/20\n",
      "1875/1875 [==============================] - 2s 1ms/step - loss: 1.6548 - accuracy: 0.3591 - val_loss: 1.6281 - val_accuracy: 0.3528\n"
     ]
    }
   ],
   "source": [
    "history_dummy_deep_model_2 = dummy_deep_model_2.fit(train_dataset, validation_data = test_dataset, epochs = 20)"
   ]
  },
  {
   "cell_type": "code",
   "execution_count": null,
   "id": "f4edb782-6f8a-4c4e-b1c0-127d27e2771a",
   "metadata": {},
   "outputs": [],
   "source": []
  }
 ],
 "metadata": {
  "kernelspec": {
   "display_name": "Python 3 (ipykernel)",
   "language": "python",
   "name": "python3"
  },
  "language_info": {
   "codemirror_mode": {
    "name": "ipython",
    "version": 3
   },
   "file_extension": ".py",
   "mimetype": "text/x-python",
   "name": "python",
   "nbconvert_exporter": "python",
   "pygments_lexer": "ipython3",
   "version": "3.8.13"
  }
 },
 "nbformat": 4,
 "nbformat_minor": 5
}
